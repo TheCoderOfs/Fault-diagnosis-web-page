{
 "cells": [
  {
   "cell_type": "code",
   "execution_count": 47,
   "id": "8d36a10d",
   "metadata": {},
   "outputs": [],
   "source": [
    "import pandas as pd\n",
    "import numpy as np\n",
    "from sklearn.manifold import TSNE\n",
    "from sklearn.decomposition import PCA\n",
    "import matplotlib.pyplot as plt\n",
    "from mpl_toolkits.mplot3d import Axes3D # 空间三维画图"
   ]
  },
  {
   "cell_type": "code",
   "execution_count": 48,
   "id": "d2cdea25",
   "metadata": {},
   "outputs": [],
   "source": [
    "data = pd.read_csv('./train_data_500.csv')"
   ]
  },
  {
   "cell_type": "code",
   "execution_count": 49,
   "id": "162994eb",
   "metadata": {},
   "outputs": [],
   "source": [
    "# 删除id\n",
    "data = data.drop('sample_id', axis=1)\n",
    "# 处理nan值\n",
    "dict = {}\n",
    "for column in data.columns.values:\n",
    "    dict[column] = data[column].mean()\n",
    "data = data.fillna(dict)"
   ]
  },
  {
   "cell_type": "code",
   "execution_count": 50,
   "id": "ef366ebb",
   "metadata": {},
   "outputs": [],
   "source": [
    "X_tsne = TSNE(n_components=3, random_state=11).fit_transform(data)\n",
    "X_pca = PCA(n_components=3).fit_transform(data)"
   ]
  },
  {
   "cell_type": "code",
   "execution_count": 51,
   "id": "6ec237ec",
   "metadata": {},
   "outputs": [
    {
     "data": {
      "text/plain": [
       "<Figure size 640x480 with 0 Axes>"
      ]
     },
     "metadata": {},
     "output_type": "display_data"
    }
   ],
   "source": [
    "\n",
    "fig = plt.figure()\n",
    "ax = Axes3D(fig)\n",
    "ax.scatter(X_tsne[:, 0], X_tsne[:, 1], X_tsne[:, 2], c=data.label)\n",
    "\n",
    "ax.set_xlabel('sepal length (cm)', fontdict={'size': 10, 'color': 'black'})\n",
    "ax.set_ylabel('sepal width (cm)', fontdict={'size': 10, 'color': 'black'})\n",
    "ax.set_zlabel('petal length (cm)', fontdict={'size': 10, 'color': 'black'})\n",
    "\n",
    "plt.show()\n",
    "\n",
    "\n",
    "# plt.style.use(\"dark_background\")\n",
    "# plt.figure(figsize=(8.5, 4))\n",
    "# plt.subplot(1, 2, 1) \n",
    "\n",
    "# plt.title(\"t-SNE\", fontdict=font)\n",
    "# # cbar = plt.colorbar(ticks=range(7)) \n",
    "# # cbar.set_label(label='digit value', fontdict=font)\n",
    "# # plt.clim(-0.5, 6.5)\n",
    "# plt.subplot(1, 2, 2)\n",
    "# ax.scatter(X_pca[:, 0], X_pca[:, 1], X_pca[:, 2], c=data.label, alpha=0.6, \n",
    "#             cmap=plt.cm.get_cmap('rainbow', 6))\n",
    "# plt.title(\"PCA\", fontdict=font)\n",
    "# # cbar = plt.colorbar(ticks=range(7)) \n",
    "# # cbar.set_label(label='digit value', fontdict=font)\n",
    "# # plt.clim(-0.5, 6.5)\n",
    "# plt.tight_layout()"
   ]
  },
  {
   "cell_type": "code",
   "execution_count": 53,
   "id": "86633eed",
   "metadata": {},
   "outputs": [
    {
     "data": {
      "text/plain": [
       "<Figure size 640x480 with 0 Axes>"
      ]
     },
     "metadata": {},
     "output_type": "display_data"
    }
   ],
   "source": [
    "#导入鸢尾花数据，并重构数据框\n",
    "from sklearn.datasets import load_iris\n",
    "iris = load_iris()\n",
    "df = pd.DataFrame(iris.data[:],columns=iris.feature_names[:])\n",
    " \n",
    "#根据鸢尾花数据前三个特征，绘制三维散点图\n",
    "import matplotlib.pyplot as plt\n",
    "from mpl_toolkits.mplot3d import Axes3D # 空间三维画图\n",
    "#设置x、y、z轴\n",
    "x=df['sepal length (cm)']\n",
    "y=df['sepal width (cm)']\n",
    "z=df['petal length (cm)']\n",
    "#绘图\n",
    "fig = plt.figure()\n",
    "ax = Axes3D(fig)\n",
    "ax.scatter(x, y, z)\n",
    "# 添加坐标轴\n",
    "ax.set_xlabel('sepal length (cm)', fontdict={'size': 10, 'color': 'black'})\n",
    "ax.set_ylabel('sepal width (cm)', fontdict={'size': 10, 'color': 'black'})\n",
    "ax.set_zlabel('petal length (cm)', fontdict={'size': 10, 'color': 'black'})\n",
    "plt.show()"
   ]
  },
  {
   "cell_type": "code",
   "execution_count": null,
   "id": "41bd7431",
   "metadata": {},
   "outputs": [],
   "source": []
  },
  {
   "cell_type": "code",
   "execution_count": null,
   "id": "88ef7771",
   "metadata": {},
   "outputs": [],
   "source": []
  }
 ],
 "metadata": {
  "kernelspec": {
   "display_name": "Python 3 (ipykernel)",
   "language": "python",
   "name": "python3"
  },
  "language_info": {
   "codemirror_mode": {
    "name": "ipython",
    "version": 3
   },
   "file_extension": ".py",
   "mimetype": "text/x-python",
   "name": "python",
   "nbconvert_exporter": "python",
   "pygments_lexer": "ipython3",
   "version": "3.8.16"
  }
 },
 "nbformat": 4,
 "nbformat_minor": 5
}
